{
 "cells": [
  {
   "cell_type": "code",
   "execution_count": 1,
   "id": "9dc8b597",
   "metadata": {},
   "outputs": [],
   "source": [
    "##Udemy Python Project \n",
    "## Using functions to make a ball game\n",
    "## Player guess where is the ball"
   ]
  },
  {
   "cell_type": "code",
   "execution_count": 2,
   "id": "495b71fb",
   "metadata": {},
   "outputs": [],
   "source": [
    "mylist = [' ','O',' ']"
   ]
  },
  {
   "cell_type": "code",
   "execution_count": 23,
   "id": "bace2b8d",
   "metadata": {},
   "outputs": [],
   "source": [
    "from random import shuffle\n",
    "\n",
    "shuffle(mylist)"
   ]
  },
  {
   "cell_type": "code",
   "execution_count": 24,
   "id": "4f4ee3e7",
   "metadata": {},
   "outputs": [
    {
     "data": {
      "text/plain": [
       "['O', ' ', ' ']"
      ]
     },
     "execution_count": 24,
     "metadata": {},
     "output_type": "execute_result"
    }
   ],
   "source": [
    "# shuffle function randomly shuffle's the position of the ball\n",
    "mylist"
   ]
  },
  {
   "cell_type": "code",
   "execution_count": 25,
   "id": "d53160bd",
   "metadata": {},
   "outputs": [],
   "source": [
    "#creating a function for shuffling the list\n",
    "\n",
    "def shuffle_list(mylist):\n",
    "    shuffle(mylist)\n",
    "    \n",
    "    return mylist"
   ]
  },
  {
   "cell_type": "code",
   "execution_count": 26,
   "id": "61e3314f",
   "metadata": {},
   "outputs": [],
   "source": [
    "#Creating a function for a player to guess the position of the ball\n",
    "\n",
    "def player_guess():\n",
    "    \n",
    "    guess = ' '\n",
    "    while guess not in ['0','1','2']:\n",
    "        guess = input('Pick a number from 0, 1, or 2')\n",
    "        \n",
    "    return int(guess)  \n",
    "    # we need this to be an integer here bcoz input function returns a string and we ll use this for index so need int\n"
   ]
  },
  {
   "cell_type": "code",
   "execution_count": 27,
   "id": "61a7dc2f",
   "metadata": {},
   "outputs": [],
   "source": [
    "#Check player guess \n",
    "\n",
    "def check_guess(mylist,guess):\n",
    "    if mylist[guess] == 'O':\n",
    "        print('Correct!')\n",
    "    else:\n",
    "        print('Wrong Guess')\n",
    "        print(mylist)"
   ]
  },
  {
   "cell_type": "code",
   "execution_count": 28,
   "id": "cea81a00",
   "metadata": {},
   "outputs": [
    {
     "name": "stdout",
     "output_type": "stream",
     "text": [
      "Pick a number from 0, 1, or 29\n",
      "Pick a number from 0, 1, or 22\n",
      "Wrong Guess\n",
      "['O', ' ', ' ']\n"
     ]
    }
   ],
   "source": [
    "#Intial list \n",
    "\n",
    "mylist = [' ','O',' ']\n",
    "\n",
    "#after shuffle \n",
    "\n",
    "mixedup_list = shuffle_list(mylist)\n",
    "\n",
    "#let the player guess\n",
    "\n",
    "guess = player_guess()\n",
    "\n",
    "#Check guess was right or wrong\n",
    "check_guess(mixedup_list,guess)"
   ]
  },
  {
   "cell_type": "code",
   "execution_count": null,
   "id": "88eb2eee",
   "metadata": {},
   "outputs": [],
   "source": []
  }
 ],
 "metadata": {
  "kernelspec": {
   "display_name": "Python 3 (ipykernel)",
   "language": "python",
   "name": "python3"
  },
  "language_info": {
   "codemirror_mode": {
    "name": "ipython",
    "version": 3
   },
   "file_extension": ".py",
   "mimetype": "text/x-python",
   "name": "python",
   "nbconvert_exporter": "python",
   "pygments_lexer": "ipython3",
   "version": "3.9.7"
  }
 },
 "nbformat": 4,
 "nbformat_minor": 5
}
